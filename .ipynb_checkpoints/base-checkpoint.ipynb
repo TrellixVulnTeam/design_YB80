{
 "cells": [
  {
   "cell_type": "code",
   "execution_count": null,
   "id": "2cfaac5d",
   "metadata": {},
   "outputs": [],
   "source": [
    "import glob\n",
    "from PIL import Image\n",
    "# filepaths\n",
    "fp_in = \"samples/*.png\"\n",
    "fp_out = \"result.gif\"\n",
    "stop_while = 5\n",
    "# https://pillow.readthedocs.io/en/stable/handbook/image-file-formats.html#gif\n",
    "sorted_images = sorted(glob.glob(fp_in))\n",
    "\n",
    "for i in range(5):\n",
    "  sorted_images.append(sorted_images[-1])\n",
    "\n",
    "img, *imgs = [Image.open(f).resize((320, 128), Image.NEAREST) for f in (sorted_images)]\n",
    "img.save(fp=fp_out, format='GIF', append_images=imgs,\n",
    "         save_all=True, duration=500, loop=0)\n",
    "\n",
    "from IPython.display import Image, display\n",
    "with open(fp_out,'rb') as f:\n",
    "    display(Image(data=f.read(), format='png'))"
   ]
  }
 ],
 "metadata": {
  "kernelspec": {
   "display_name": "big-sleep-new",
   "language": "python",
   "name": "big-sleep-new"
  },
  "language_info": {
   "codemirror_mode": {
    "name": "ipython",
    "version": 3
   },
   "file_extension": ".py",
   "mimetype": "text/x-python",
   "name": "python",
   "nbconvert_exporter": "python",
   "pygments_lexer": "ipython3",
   "version": "3.9.7"
  }
 },
 "nbformat": 4,
 "nbformat_minor": 5
}
